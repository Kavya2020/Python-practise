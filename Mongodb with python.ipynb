{
 "cells": [
  {
   "cell_type": "code",
   "execution_count": 1,
   "metadata": {},
   "outputs": [],
   "source": [
    "import pymongo\n",
    "client =pymongo.MongoClient(\"mongodb://127.0.0.1:27017/\")\n",
    "\n",
    "mydb=client['Employee']\n",
    "empinfo=mydb.employeeinformation"
   ]
  },
  {
   "cell_type": "code",
   "execution_count": 2,
   "metadata": {},
   "outputs": [
    {
     "data": {
      "text/plain": [
       "<pymongo.results.InsertOneResult at 0x19eae948880>"
      ]
     },
     "execution_count": 2,
     "metadata": {},
     "output_type": "execute_result"
    }
   ],
   "source": [
    "record ={\n",
    "         'Firstname' :'Hridhaan',\n",
    "         'Lastname' : 'Kageeta',\n",
    "         'department' : '1st grade',\n",
    "         'qualification' : 'BE',\n",
    "         'age':29\n",
    "}\n",
    "empinfo.insert_one(record)"
   ]
  },
  {
   "cell_type": "code",
   "execution_count": 5,
   "metadata": {},
   "outputs": [
    {
     "data": {
      "text/plain": [
       "<pymongo.results.InsertManyResult at 0x19eae3b5840>"
      ]
     },
     "execution_count": 5,
     "metadata": {},
     "output_type": "execute_result"
    }
   ],
   "source": [
    "record =[{\n",
    "         'Firstname' :'Hridhaan',\n",
    "         'Lastname' : 'Kageeta',\n",
    "         'department' : '1st grade',\n",
    "         'qualification' : 'BE',\n",
    "         'age':29\n",
    "        },\n",
    "       {\n",
    "         'Firstname' :'Prasad',\n",
    "         'Lastname' : 'Janga',\n",
    "         'department' : 'Bachelors',\n",
    "         'qualification' : 'Bsc',\n",
    "         'age':29\n",
    "        },\n",
    "       {\n",
    "         'Firstname' :'Vivaan',\n",
    "         'Lastname' : 'Kageeta',\n",
    "         'department' : 'KG',\n",
    "         'qualification' : 'B.Arch',\n",
    "         'age':29\n",
    "        },\n",
    "        {\n",
    "        'Firstname' :'Kalyan',\n",
    "         'Lastname' : 'Kageeta',\n",
    "         'department' : 'Masters',\n",
    "         'qualification' : 'MCA',\n",
    "         'age':29\n",
    "        },\n",
    "        {    \n",
    "        'Firstname' :'Kavya',\n",
    "         'Lastname' : 'Janga',\n",
    "         'department' : 'Masters',\n",
    "         'qualification' : 'MS',\n",
    "         'age':29\n",
    "        }]\n",
    "empinfo.insert_many(record)"
   ]
  },
  {
   "cell_type": "code",
   "execution_count": 4,
   "metadata": {},
   "outputs": [
    {
     "data": {
      "text/plain": [
       "{'_id': ObjectId('609721f2ed24eb306929d52f'),\n",
       " 'Firstname': 'Hridhaan',\n",
       " 'Lastname': 'Kageeta',\n",
       " 'department': '1st grade',\n",
       " 'qualification': 'BE',\n",
       " 'age': 29}"
      ]
     },
     "execution_count": 4,
     "metadata": {},
     "output_type": "execute_result"
    }
   ],
   "source": [
    "empinfo.find_one()"
   ]
  },
  {
   "cell_type": "code",
   "execution_count": 11,
   "metadata": {},
   "outputs": [
    {
     "name": "stdout",
     "output_type": "stream",
     "text": [
      "{'_id': ObjectId('609721f2ed24eb306929d52f'), 'Firstname': 'Hridhaan', 'Lastname': 'Kageeta', 'department': '1st grade', 'qualification': 'BE', 'age': 29}\n",
      "{'_id': ObjectId('60972328ed24eb306929d530'), 'Firstname': 'Hridhaan', 'Lastname': 'Kageeta', 'department': '1st grade', 'qualification': 'BE', 'age': 29}\n",
      "{'_id': ObjectId('60972328ed24eb306929d531'), 'Firstname': 'Prasad', 'Lastname': 'Janga', 'department': 'Bachelors', 'qualification': 'Bsc', 'age': 29}\n",
      "{'_id': ObjectId('60972328ed24eb306929d532'), 'Firstname': 'Vivaan', 'Lastname': 'Kageeta', 'department': 'KG', 'qualification': 'B.Arch', 'age': 29}\n",
      "{'_id': ObjectId('60972328ed24eb306929d533'), 'Firstname': 'Kalyan', 'Lastname': 'Kageeta', 'department': 'Masters', 'qualification': 'MCA', 'age': 29}\n",
      "{'_id': ObjectId('60972328ed24eb306929d534'), 'Firstname': 'Kavya', 'Lastname': 'Janga', 'department': 'Masters', 'qualification': 'MS', 'age': 29}\n"
     ]
    }
   ],
   "source": [
    "#select * from empinfo;\n",
    "for record in empinfo.find():\n",
    "    print(record)"
   ]
  },
  {
   "cell_type": "code",
   "execution_count": 12,
   "metadata": {},
   "outputs": [
    {
     "name": "stdout",
     "output_type": "stream",
     "text": [
      "{'_id': ObjectId('60972328ed24eb306929d534'), 'Firstname': 'Kavya', 'Lastname': 'Janga', 'department': 'Masters', 'qualification': 'MS', 'age': 29}\n"
     ]
    }
   ],
   "source": [
    "#Query json documents based on equality conditions\n",
    "#Select * from employeeinformation where Firstname = 'Kavya';\n",
    "for record in empinfo.find({'Firstname':'Kavya'}):\n",
    "    print(record)"
   ]
  },
  {
   "cell_type": "code",
   "execution_count": 19,
   "metadata": {},
   "outputs": [
    {
     "name": "stdout",
     "output_type": "stream",
     "text": [
      "{'_id': ObjectId('609721f2ed24eb306929d52f'), 'Firstname': 'Hridhaan', 'Lastname': 'Kageeta', 'department': '1st grade', 'qualification': 'BE', 'age': 29}\n",
      "{'_id': ObjectId('60972328ed24eb306929d530'), 'Firstname': 'Hridhaan', 'Lastname': 'Kageeta', 'department': '1st grade', 'qualification': 'BE', 'age': 29}\n",
      "{'_id': ObjectId('60972328ed24eb306929d534'), 'Firstname': 'Kavya', 'Lastname': 'Janga', 'department': 'Masters', 'qualification': 'MS', 'age': 29}\n"
     ]
    }
   ],
   "source": [
    "#Query documents using query operators($ln,$gt,$nt)\n",
    "for record in empinfo.find({'qualification':{'$in':['BE','MS']}}):\n",
    "    print(record)\n"
   ]
  },
  {
   "cell_type": "code",
   "execution_count": 22,
   "metadata": {},
   "outputs": [
    {
     "name": "stdout",
     "output_type": "stream",
     "text": [
      "{'_id': ObjectId('60972328ed24eb306929d533'), 'Firstname': 'Kalyan', 'Lastname': 'Kageeta', 'department': 'Masters', 'qualification': 'MCA', 'age': 29}\n"
     ]
    }
   ],
   "source": [
    "for record in empinfo.find({'$or':[{'Firstname':'Kalyan'},{'qualification': 'MCA'}]}):\n",
    "    print(record)"
   ]
  },
  {
   "cell_type": "code",
   "execution_count": 7,
   "metadata": {},
   "outputs": [],
   "source": [
    "inventory=mydb.inventory"
   ]
  },
  {
   "cell_type": "code",
   "execution_count": 8,
   "metadata": {},
   "outputs": [],
   "source": [
    "inventory.insert_many([\n",
    "    { 'item': \"journal\", 'qty': 25, 'size': { 'h': 14, 'w': 21,'uom': \"cm\" }, 'status': \"A\" },\n",
    "   { 'item': \"notebook\", 'qty': 50,'size': { 'h': 8.5, 'w': 11,'uom': \"in\" },'status': \"A\" },\n",
    "   { 'item': \"paper\", 'qty': 100, 'size': { 'h': 8.5, 'w': 11,'uom': \"in\" },'status': \"D\" },\n",
    "   { 'item': \"planner\", 'qty': 75, 'size': { 'h': 22.85,'w': 30,'uom': \"cm\" },'status': \"D\" },\n",
    "   { 'item': \"postcard\", 'qty': 45, 'size': { 'h': 10, 'w': 15.25,'uom': \"cm\" },'status': \"A\" }\n",
    "]);"
   ]
  },
  {
   "cell_type": "code",
   "execution_count": 9,
   "metadata": {},
   "outputs": [
    {
     "name": "stdout",
     "output_type": "stream",
     "text": [
      "{'_id': ObjectId('6097321fed24eb306929d535'), 'item': 'journal', 'qty': 25, 'size': {'h': 14, 'w': 21, 'uom': 'cm'}, 'status': 'A'}\n",
      "{'_id': ObjectId('609733c5ed24eb306929d53b'), 'item': 'journal', 'qty': 25, 'size': {'h': 14, 'w': 21, 'uom': 'cm'}, 'status': 'A'}\n",
      "{'_id': ObjectId('609733c5ed24eb306929d542'), 'item': 'sketchbook', 'qty': 80, 'size': {'h': 14, 'w': 21, 'uom': 'cm'}, 'status': 'A'}\n",
      "{'_id': ObjectId('609c1712fa779c674a00c19f'), 'item': 'journal', 'qty': 25, 'size': {'h': 14, 'w': 21, 'uom': 'cm'}, 'status': 'A'}\n"
     ]
    }
   ],
   "source": [
    "for record in inventory.find({'size': { 'h': 14, 'w': 21,'uom': \"cm\" }}):\n",
    "    print(record)"
   ]
  },
  {
   "cell_type": "code",
   "execution_count": 10,
   "metadata": {},
   "outputs": [
    {
     "data": {
      "text/plain": [
       "<pymongo.results.InsertManyResult at 0x19eae9ddf00>"
      ]
     },
     "execution_count": 10,
     "metadata": {},
     "output_type": "execute_result"
    }
   ],
   "source": [
    "inventory.insert_many([{\"item\": \"canvas\",\n",
    "     \"qty\": 100,\n",
    "     \"size\": {\"h\": 28, \"w\": 35.5, \"uom\": \"cm\"},\n",
    "     \"status\": \"A\"},\n",
    "    {\"item\": \"journal\",\n",
    "     \"qty\": 25,\n",
    "     \"size\": {\"h\": 14, \"w\": 21, \"uom\": \"cm\"},\n",
    "     \"status\": \"A\"},\n",
    "    {\"item\": \"mat\",\n",
    "     \"qty\": 85,\n",
    "     \"size\": {\"h\": 27.9, \"w\": 35.5, \"uom\": \"cm\"},\n",
    "     \"status\": \"A\"},\n",
    "    {\"item\": \"mousepad\",\n",
    "     \"qty\": 25,\n",
    "     \"size\": {\"h\": 19, \"w\": 22.85, \"uom\": \"cm\"},\n",
    "     \"status\": \"P\"},\n",
    "    {\"item\": \"notebook\",\n",
    "     \"qty\": 50,\n",
    "     \"size\": {\"h\": 8.5, \"w\": 11, \"uom\": \"in\"},\n",
    "     \"status\": \"P\"},\n",
    "    {\"item\": \"paper\",\n",
    "     \"qty\": 100,\n",
    "     \"size\": {\"h\": 8.5, \"w\": 11, \"uom\": \"in\"},\n",
    "     \"status\": \"D\"},\n",
    "    {\"item\": \"planner\",\n",
    "     \"qty\": 75,\n",
    "     \"size\": {\"h\": 22.85, \"w\": 30, \"uom\": \"cm\"},\n",
    "     \"status\": \"D\"},\n",
    "    {\"item\": \"postcard\",\n",
    "     \"qty\": 45,\n",
    "     \"size\": {\"h\": 10, \"w\": 15.25, \"uom\": \"cm\"},\n",
    "     \"status\": \"A\"},\n",
    "    {\"item\": \"sketchbook\",\n",
    "     \"qty\": 80,\n",
    "     \"size\": {\"h\": 14, \"w\": 21, \"uom\": \"cm\"},\n",
    "     \"status\": \"A\"},\n",
    "    {\"item\": \"sketch pad\",\n",
    "     \"qty\": 95,\n",
    "     \"size\": {\"h\": 22.85, \"w\": 30.5, \"uom\": \"cm\"},\n",
    "     \"status\": \"A\"}])\n"
   ]
  },
  {
   "cell_type": "code",
   "execution_count": 11,
   "metadata": {},
   "outputs": [
    {
     "data": {
      "text/plain": [
       "<pymongo.results.UpdateResult at 0x19eae9e2140>"
      ]
     },
     "execution_count": 11,
     "metadata": {},
     "output_type": "execute_result"
    }
   ],
   "source": [
    "inventory.update_one(\n",
    "{\"item\":\"sketch pad\"},\n",
    "{\"$set\":{\"size.uom\":\"m\",\"status\":\"P\"},\n",
    "\"$currentDate\":{\"lastModified\":True}}\n",
    ")"
   ]
  },
  {
   "cell_type": "code",
   "execution_count": 12,
   "metadata": {},
   "outputs": [
    {
     "data": {
      "text/plain": [
       "<pymongo.results.InsertManyResult at 0x19eae9e2b80>"
      ]
     },
     "execution_count": 12,
     "metadata": {},
     "output_type": "execute_result"
    }
   ],
   "source": [
    "# Access database  \n",
    "mydatabase = client['Students']  \n",
    "    \n",
    "# Access collection of the database  \n",
    "collection=mydatabase['studentscores']  \n",
    "data = [ \n",
    "    {\"user\":\"Krish\", \"subject\":\"Database\", \"score\":80}, \n",
    "    {\"user\":\"Amit\",  \"subject\":\"JavaScript\", \"score\":90}, \n",
    "    {\"user\":\"Amit\",  \"title\":\"Database\", \"score\":85}, \n",
    "    {\"user\":\"Krish\",  \"title\":\"JavaScript\", \"score\":75}, \n",
    "    {\"user\":\"Amit\",  \"title\":\"Data Science\", \"score\":60},\n",
    "    {\"user\":\"Krish\",  \"title\":\"Data Science\", \"score\":95}] \n",
    "  \n",
    "collection.insert_many(data)"
   ]
  },
  {
   "cell_type": "code",
   "execution_count": 15,
   "metadata": {},
   "outputs": [
    {
     "name": "stdout",
     "output_type": "stream",
     "text": [
      "{'_id': 'Amit', 'Total records': 3}\n",
      "{'_id': 'Krish', 'Total records': 3}\n"
     ]
    }
   ],
   "source": [
    "### Find Amit And Krish Total Subjects\n",
    "\n",
    "agg_result = collection.aggregate(\n",
    "    [{\n",
    "        \"$group\" :\n",
    "        {\"_id\" : \"$user\",\n",
    "          \"Total records\" : {\"$sum\" : 1}\n",
    "        }}\n",
    "    ])\n",
    "for i in agg_result: \n",
    "    print(i)"
   ]
  },
  {
   "cell_type": "code",
   "execution_count": null,
   "metadata": {},
   "outputs": [],
   "source": [
    "{\n",
    "  \"address\": {\n",
    "     \"building\": \"1007\",\n",
    "     \"coord\": [ -73.856077, 40.848447 ],\n",
    "     \"street\": \"Morris Park Ave\",\n",
    "     \"zipcode\": \"10462\"\n",
    "  },\n",
    "  \"borough\": \"Bronx\",\n",
    "  \"cuisine\": \"Bakery\",\n",
    "  \"grades\": [\n",
    "     { \"date\": { \"$date\": 1393804800000 }, \"grade\": \"A\", \"score\": 2 },\n",
    "     { \"date\": { \"$date\": 1378857600000 }, \"grade\": \"A\", \"score\": 6 },\n",
    "     { \"date\": { \"$date\": 1358985600000 }, \"grade\": \"A\", \"score\": 10 },\n",
    "     { \"date\": { \"$date\": 1322006400000 }, \"grade\": \"A\", \"score\": 9 },\n",
    "     { \"date\": { \"$date\": 1299715200000 }, \"grade\": \"B\", \"score\": 14 }\n",
    "  ],\n",
    "  \"name\": \"Morris Park Bake Shop\",\n",
    "  \"restaurant_id\": \"30075445\"\n",
    "}"
   ]
  },
  {
   "cell_type": "code",
   "execution_count": null,
   "metadata": {},
   "outputs": [],
   "source": []
  }
 ],
 "metadata": {
  "kernelspec": {
   "display_name": "Python 3",
   "language": "python",
   "name": "python3"
  },
  "language_info": {
   "codemirror_mode": {
    "name": "ipython",
    "version": 3
   },
   "file_extension": ".py",
   "mimetype": "text/x-python",
   "name": "python",
   "nbconvert_exporter": "python",
   "pygments_lexer": "ipython3",
   "version": "3.8.3"
  }
 },
 "nbformat": 4,
 "nbformat_minor": 4
}
